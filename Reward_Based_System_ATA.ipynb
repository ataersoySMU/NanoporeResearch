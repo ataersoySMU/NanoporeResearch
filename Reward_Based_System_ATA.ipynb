{
 "cells": [
  {
   "cell_type": "markdown",
   "id": "daccb44e-9d5f-45fb-9b1a-d8d4820f755f",
   "metadata": {},
   "source": [
    "## DONT TOUCH obstacle modal based DONE"
   ]
  },
  {
   "cell_type": "code",
   "execution_count": 1,
   "id": "d1b1d18c-110a-416d-8154-3c8e47d6a980",
   "metadata": {},
   "outputs": [],
   "source": [
    "import numpy as np"
   ]
  },
  {
   "cell_type": "code",
   "execution_count": 7,
   "id": "e5b81cb0-2cfb-4139-824a-2645d3519edc",
   "metadata": {},
   "outputs": [],
   "source": [
    "# Your code and description goes here\n",
    "\n",
    "def find_station(n,robot_position,max_steps):\n",
    "    chosen_Act = 'north'\n",
    "    for i in range(max_steps):\n",
    "        # sensors sensing\n",
    "        if robot_position[0] == n-2: bumpers[\"south\"] = True\n",
    "        if robot_position[0] != n-2: bumpers[\"south\"] = False \n",
    "        if robot_position[1] == n-2: bumpers[\"east\"] = True\n",
    "        if robot_position[1] != n-2: bumpers[\"east\"] = False\n",
    "        if robot_position[1] == 1: bumpers[\"west\"] = True\n",
    "        if robot_position[1] != 1: bumpers[\"west\"] = False\n",
    "        if robot_position[0] == 1: bumpers[\"north\"] = True\n",
    "        if robot_position[0] != 1: bumpers[\"north\"] = False\n",
    "        # rationalizing action\n",
    "        if bumpers[chosen_Act] == True: \n",
    "            chosen_Act = 'west' \n",
    "        else: \n",
    "            chosen_Act = chosen_Act\n",
    "        if bumpers[chosen_Act] == True:\n",
    "            #print('arrived at north-west corner')\n",
    "            #print('saving position as (0,0) to memory')\n",
    "            memory_position = robot_position\n",
    "            break\n",
    "        # act upon chosen action\n",
    "        if chosen_Act == 'east':\n",
    "            delta = [0,1]\n",
    "        if chosen_Act == 'west':\n",
    "            delta = [0,-1]\n",
    "        if chosen_Act == 'south':\n",
    "            delta = [1,0]  \n",
    "        if chosen_Act == 'suck':\n",
    "            delta = [0,0]\n",
    "        if chosen_Act == 'north':\n",
    "            delta = [-1,0]         \n",
    "        # changed position\n",
    "        robot_position = robot_position + delta\n",
    "        #print(robot_position)\n",
    "    return robot_position\n",
    "\n",
    "#env = np.random.choice(2, size=(n-2, n-2), p=[0.8, 0.2])\n",
    "\n",
    "def reward_based_movement(robot_position, reward_space, actions):\n",
    "    # put this after possible actions are determined by bumpers!\n",
    "    # robot_position = [0, 0]\n",
    "    # actions = {\"east\" : [0,1], \"south\" : [1,0]}\n",
    "    p_pos, p_reward = list(), list()\n",
    "    p_delta = [j for i,j in actions.items()]\n",
    "    for i in range(len(p_delta)):\n",
    "        p_pos.append(np.array(robot_position) + p_delta[i])\n",
    "        p_reward.append(reward_space[p_pos[-1][0]][p_pos[-1][1]])\n",
    "    idx = p_reward.index(min(p_reward)) # find index of the low reward direction\n",
    "    act = list(actions.keys())[idx]\n",
    "    #print(chosen_Act) \n",
    "    #print(reward_space)\n",
    "    return act\n",
    "\n",
    "def modal_based_agent(n, robot_position, max_steps):\n",
    "    #env = np.random.choice(3, size=(7, 7), p=[0.8, 0.2])\n",
    "    env=np.random.choice(3, size=(n, n), p=[0.75, 0.2, 0.05])\n",
    "    env[0] = [3 for i in range(n)]\n",
    "    env[n-1] = [3 for i in range(n)]\n",
    "    env[:,0] = [3 for i in range(n)]\n",
    "    env[:,n-1]=[3 for i in range(n)]\n",
    "    robot_position_array = list()\n",
    "    reward_space = np.zeros(shape = (n,n))\n",
    "    #print('This is the environment matrix:')\n",
    "    #print(env)\n",
    "    for i in range(max_steps):\n",
    "        # return back all possiblities.\n",
    "        actions = {\"north\" : [-1,0] , \"east\": [0,1], \"west\" : [0,-1], \"south\" : [1, 0]}\n",
    "        reward_space[robot_position[0]][robot_position[1]]=reward_space[robot_position[0]][robot_position[1]]+1\n",
    "        #print(robot_position)\n",
    "        # sensors sensing\n",
    "        if robot_position[0] == n-2: bumpers[\"south\"] = True\n",
    "        if robot_position[0] != n-2: bumpers[\"south\"] = False \n",
    "        if robot_position[1] == n-2: bumpers[\"east\"] = True\n",
    "        if robot_position[1] != n-2: bumpers[\"east\"] = False\n",
    "        if robot_position[1] == 1: bumpers[\"west\"] = True\n",
    "        if robot_position[1] != 1: bumpers[\"west\"] = False\n",
    "        if robot_position[0] == 1: bumpers[\"north\"] = True\n",
    "        if robot_position[0] != 1: bumpers[\"north\"] = False\n",
    "\n",
    "       \n",
    "        # Obstacle func.  \n",
    "        if env[robot_position[0]-1][robot_position[1]]==2:bumpers[\"north\"]=True\n",
    "        if env[robot_position[0]][robot_position[1]+1]==2:bumpers[\"east\"]=True\n",
    "        if env[robot_position[0]+1][robot_position[1]]==2:bumpers[\"south\"]=True\n",
    "        if env[robot_position[0]][robot_position[1]-1]==2:bumpers[\"west\"]=True\n",
    "        if env[robot_position[0]][robot_position[1]]==1: bumpers[\"suck\"]=True\n",
    "        if env[robot_position[0]][robot_position[1]]==0: bumpers[\"suck\"]=False\n",
    "        #if env[robot_position[0]][robot_position[1]]==2:bumpers[\"north\"]=True\n",
    "        #if env[robot_position[0]][robot_position[1]]==2:bumpers[\"east\"]=True\n",
    "        #if env[robot_position[0]][robot_position[1]]==2:bumpers[\"south\"]=True\n",
    "        #if env[robot_position[0]][robot_position[1]]==2:bumpers[\"north\"]=True\n",
    "        #if env[robot_position[0]][robot_position[1]]==1: bumpers[\"suck\"]=True\n",
    "        #if env[robot_position[0]][robot_position[1]]==0: bumpers[\"suck\"]=False\n",
    "        \n",
    "        # eliminate irrational choices to determine the action: # POSSIBLE ERROR: it can't remove the same thing twice.        \n",
    "        if bumpers[\"suck\"] == True: \n",
    "            chosen_Act = 'suck'\n",
    "            #print('sucking')\n",
    "        else:\n",
    "            if bumpers['south'] ==  True: del actions['south']  # actions.remove('south')\n",
    "            if bumpers['east'] ==  True:  del actions['east']   # actions.remove('east')\n",
    "            if bumpers['west'] ==  True:  del actions['west']   # actions.remove('west')\n",
    "            if bumpers['north'] ==  True: del actions['north']  # actions.remove('north')\n",
    "        \n",
    "        # Choosing rational action        \n",
    "            if i == 0: \n",
    "                chosen_Act = np.random.choice(list(actions.keys()))\n",
    "                #print('first step')  # first action is total random chosen from possible paths.\n",
    "            elif bumpers[chosen_Act] == True: \n",
    "                #print('we are at wall: ',robot_position)\n",
    "                chosen_Act = reward_based_movement(robot_position,reward_space, actions) #reward_based_movement\n",
    "            elif chosen_Act == 'suck': \n",
    "                #print(actions)\n",
    "                chosen_Act = reward_based_movement(robot_position,reward_space, actions)\n",
    "                #print('cleaned: ', robot_position)\n",
    "            else: \n",
    "                chosen_Act = reward_based_movement(robot_position,reward_space, actions)\n",
    "                #print('else condition. pure reward based')\n",
    "            \n",
    "        \n",
    "        # act upon chosen action\n",
    "        if chosen_Act == 'east':\n",
    "            delta = [0,1]\n",
    "        if chosen_Act == 'west':\n",
    "            delta = [0,-1]\n",
    "        if chosen_Act == 'south':\n",
    "            delta = [1,0]  \n",
    "        if chosen_Act == 'suck':\n",
    "            delta = [0,0]\n",
    "        if chosen_Act == 'north':\n",
    "            delta = [-1,0]            \n",
    "        if chosen_Act == 'suck':\n",
    "            env[robot_position[0]][robot_position[1]]=0\n",
    "        else:\n",
    "            env=env\n",
    "\n",
    "        #if the environment is clean, break the loop.\n",
    "        #if not np.any(env):\n",
    "        if 1 not in env:\n",
    "            #print('done after:', i+1,'steps')\n",
    "            break\n",
    "        \n",
    "        # Moving to new position\n",
    "        robot_position = robot_position + delta\n",
    "        robot_position_array.append(robot_position)\n",
    "        #print(reward_space) \n",
    "        \n",
    "    return i+1, reward_space          \n",
    "\n",
    "def environment(n):\n",
    "    env = np.random.choice(2, size=(n, n), p=[0.8, 0.2])\n",
    "    pass"
   ]
  },
  {
   "cell_type": "code",
   "execution_count": 8,
   "id": "c1a8cb23-5728-4b2f-be1b-e5e3aaf499b8",
   "metadata": {},
   "outputs": [
    {
     "data": {
      "text/plain": [
       "(235563,\n",
       " array([[ 0.,  0.,  0., ...,  0.,  0.,  0.],\n",
       "        [ 0., 36., 35., ..., 48., 47.,  0.],\n",
       "        [ 0., 35., 36., ..., 47., 48.,  0.],\n",
       "        ...,\n",
       "        [ 0.,  2.,  1., ..., 16., 17.,  0.],\n",
       "        [ 0.,  0.,  0., ..., 16., 16.,  0.],\n",
       "        [ 0.,  0.,  0., ...,  0.,  0.,  0.]]))"
      ]
     },
     "execution_count": 8,
     "metadata": {},
     "output_type": "execute_result"
    }
   ],
   "source": [
    "bumpers = {\"north\" : False , \"east\": False, \"west\" : False, \"south\" : False, 'suck' : False}\n",
    "n = 102\n",
    "robot_position = np.random.choice([i for i in range(1,n-1)], size=(1, 2))[0]\n",
    "robot_position = find_station(n,robot_position,10000000)\n",
    "reward_space=modal_based_agent(n,robot_position, 1000000)\n",
    "reward_space"
   ]
  },
  {
   "cell_type": "code",
   "execution_count": 17,
   "id": "a1962432-3868-4df6-a6fd-e8f7380e9c0a",
   "metadata": {},
   "outputs": [
    {
     "data": {
      "image/png": "[encoded data removed]",
      "text/plain": [
       "<Figure size 432x288 with 1 Axes>"
      ]
     },
     "metadata": {
      "needs_background": "light"
     },
     "output_type": "display_data"
    }
   ],
   "source": [
    "import matplotlib.pyplot as plt\n",
    "step_size = list()\n",
    "for i in range(10):\n",
    "    n = 102\n",
    "    robot_position = np.random.choice([i for i in range(1,n-1)], size=(1, 2))[0]\n",
    "    robot_position = find_station(n,robot_position,1000000)\n",
    "    step,_ =modal_based_agent(n,robot_position, 1000000)\n",
    "    step_size.append(step)\n",
    "step_size = [i for i in step_size if i < 999999999]\n",
    "plt.hist(step_size, bins=5)\n",
    "plt.show()\n",
    "    "
   ]
  },
  {
   "cell_type": "code",
   "execution_count": 13,
   "id": "6d40c639-40e9-4f4a-84ae-ac545aa48e3b",
   "metadata": {},
   "outputs": [
    {
     "data": {
      "image/png": "[encoded data removed]",
      "text/plain": [
       "<Figure size 432x288 with 1 Axes>"
      ]
     },
     "metadata": {
      "needs_background": "light"
     },
     "output_type": "display_data"
    }
   ],
   "source": [
    "plt.hist([i for i in step_size if i < 20000], bins=5)\n",
    "plt.show()"
   ]
  },
  {
   "cell_type": "code",
   "execution_count": 16,
   "id": "bb223543-faa2-4e8e-a5a1-3023ca65cc51",
   "metadata": {},
   "outputs": [
    {
     "data": {
      "text/plain": [
       "[100000,\n",
       " 100000,\n",
       " 100000,\n",
       " 100000,\n",
       " 100000,\n",
       " 100000,\n",
       " 100000,\n",
       " 100000,\n",
       " 100000,\n",
       " 100000]"
      ]
     },
     "execution_count": 16,
     "metadata": {},
     "output_type": "execute_result"
    }
   ],
   "source": [
    "[i for i in step_size if i < 9999999]"
   ]
  },
  {
   "cell_type": "code",
   "execution_count": null,
   "id": "31016f6e-dabe-4dea-9177-1bd692e3728d",
   "metadata": {},
   "outputs": [],
   "source": []
  }
 ],
 "metadata": {
  "kernelspec": {
   "display_name": "Python 3",
   "language": "python",
   "name": "python3"
  },
  "language_info": {
   "codemirror_mode": {
    "name": "ipython",
    "version": 3
   },
   "file_extension": ".py",
   "mimetype": "text/x-python",
   "name": "python",
   "nbconvert_exporter": "python",
   "pygments_lexer": "ipython3",
   "version": "3.8.8"
  }
 },
 "nbformat": 4,
 "nbformat_minor": 5
}
